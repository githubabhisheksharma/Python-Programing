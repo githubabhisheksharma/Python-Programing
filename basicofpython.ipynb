{
 "cells": [
  {
   "cell_type": "code",
   "execution_count": 1,
   "id": "20fdb168-2fa6-4106-b89b-409bc9e2a543",
   "metadata": {},
   "outputs": [
    {
     "data": {
      "text/plain": [
       "'abhishek1'"
      ]
     },
     "execution_count": 1,
     "metadata": {},
     "output_type": "execute_result"
    }
   ],
   "source": [
    "s =\"abhishek\"\n",
    "s +str(1)"
   ]
  },
  {
   "cell_type": "code",
   "execution_count": 3,
   "id": "f1da7dd1-9729-4bd2-94e9-a5d58a2389a3",
   "metadata": {},
   "outputs": [
    {
     "data": {
      "text/plain": [
       "'abhishekabhishekabhishekabhishekabhishekabhishekabhishekabhishekabhishekabhishek'"
      ]
     },
     "execution_count": 3,
     "metadata": {},
     "output_type": "execute_result"
    }
   ],
   "source": [
    "s*10"
   ]
  },
  {
   "cell_type": "code",
   "execution_count": 12,
   "id": "49546ffd-87fb-4433-9bf9-3b9894067a0b",
   "metadata": {},
   "outputs": [
    {
     "data": {
      "text/plain": [
       "[1, 2, 3, 4, 'sss', 1, 2, 3, 4, 'sss', 1, 2, 3, 4, 'sss']"
      ]
     },
     "execution_count": 12,
     "metadata": {},
     "output_type": "execute_result"
    }
   ],
   "source": [
    "[1,2,3,4,'sss']*3"
   ]
  },
  {
   "cell_type": "code",
   "execution_count": 26,
   "id": "83cdc0e4-7601-4de0-9340-819ec840db8c",
   "metadata": {},
   "outputs": [
    {
     "data": {
      "text/plain": [
       "'ABHISHEK'"
      ]
     },
     "execution_count": 26,
     "metadata": {},
     "output_type": "execute_result"
    }
   ],
   "source": [
    "s.upper()"
   ]
  },
  {
   "cell_type": "code",
   "execution_count": 28,
   "id": "9ee81881-3d9d-4d9e-b7c9-ee8557866cd4",
   "metadata": {},
   "outputs": [
    {
     "data": {
      "text/plain": [
       "'abhishek'"
      ]
     },
     "execution_count": 28,
     "metadata": {},
     "output_type": "execute_result"
    }
   ],
   "source": [
    "s.lower()"
   ]
  },
  {
   "cell_type": "code",
   "execution_count": 44,
   "id": "177b1f5d-a5aa-450c-b562-1cf4b7fc17cc",
   "metadata": {},
   "outputs": [
    {
     "data": {
      "text/plain": [
       "list"
      ]
     },
     "execution_count": 44,
     "metadata": {},
     "output_type": "execute_result"
    }
   ],
   "source": [
    " a = 'My@name@is@Abhishek'\n",
    "a.split('@')\n",
    "type(a.split('@'))\n"
   ]
  },
  {
   "cell_type": "code",
   "execution_count": 40,
   "id": "c228c70a-a97b-4c98-9076-95a981a23e11",
   "metadata": {},
   "outputs": [
    {
     "data": {
      "text/plain": [
       "('My', '@', 'name@is@Abhishek')"
      ]
     },
     "execution_count": 40,
     "metadata": {},
     "output_type": "execute_result"
    }
   ],
   "source": [
    "a.partition('@')"
   ]
  },
  {
   "cell_type": "code",
   "execution_count": 42,
   "id": "28686ff5-5152-42e4-b998-f5fdd45bcd0b",
   "metadata": {},
   "outputs": [
    {
     "data": {
      "text/plain": [
       "tuple"
      ]
     },
     "execution_count": 42,
     "metadata": {},
     "output_type": "execute_result"
    }
   ],
   "source": [
    "type(a.partition('@'))"
   ]
  },
  {
   "cell_type": "code",
   "execution_count": 52,
   "id": "b95d9af3-677f-486d-becd-014be3a8207e",
   "metadata": {},
   "outputs": [
    {
     "data": {
      "text/plain": [
       "4"
      ]
     },
     "execution_count": 52,
     "metadata": {},
     "output_type": "execute_result"
    }
   ],
   "source": [
    "a ='abishek'\n",
    "a.find('h')"
   ]
  },
  {
   "cell_type": "code",
   "execution_count": 54,
   "id": "a26d40b3-b956-4b10-a12c-52479ac7e2a5",
   "metadata": {},
   "outputs": [
    {
     "data": {
      "text/plain": [
       "'######abishek#######'"
      ]
     },
     "execution_count": 54,
     "metadata": {},
     "output_type": "execute_result"
    }
   ],
   "source": [
    "a.center(20,'#')"
   ]
  },
  {
   "cell_type": "code",
   "execution_count": 56,
   "id": "e261df66-d9ac-41ac-9b3a-4ceed0be393a",
   "metadata": {},
   "outputs": [
    {
     "data": {
      "text/plain": [
       "'my name is Abhishek sharma'"
      ]
     },
     "execution_count": 56,
     "metadata": {},
     "output_type": "execute_result"
    }
   ],
   "source": [
    "'my name is {} sharma'.format('Abhishek')"
   ]
  },
  {
   "cell_type": "code",
   "execution_count": 64,
   "id": "1d44952a-f0cb-4785-98de-e67cfb4671b4",
   "metadata": {},
   "outputs": [
    {
     "name": "stdin",
     "output_type": "stream",
     "text": [
      "Enter The First Name  Abhishek\n",
      "Enter The last Name  Sharma\n"
     ]
    },
    {
     "data": {
      "text/plain": [
       "'May name is Abhishek Sharma'"
      ]
     },
     "execution_count": 64,
     "metadata": {},
     "output_type": "execute_result"
    }
   ],
   "source": [
    "a = input('Enter The First Name ')\n",
    "b = input('Enter The last Name ')\n",
    "\"May name is {} {}\".format(a,b)"
   ]
  },
  {
   "cell_type": "code",
   "execution_count": 4,
   "id": "5e0be810-d920-49a6-bf38-97dedec45aff",
   "metadata": {},
   "outputs": [
    {
     "data": {
      "text/plain": [
       "[1, 2, 3, 4, 'abhishek', 4, 5, 6, 7, 'sharma']"
      ]
     },
     "execution_count": 4,
     "metadata": {},
     "output_type": "execute_result"
    }
   ],
   "source": [
    "a=[1,2,3,4,\"abhishek\"]\n",
    "b=[4,5,6,7,\"sharma\"]\n",
    "a+b"
   ]
  },
  {
   "cell_type": "code",
   "execution_count": 13,
   "id": "8ae6c106-e9e2-4e57-bb8c-f499dfd9bb68",
   "metadata": {},
   "outputs": [
    {
     "data": {
      "text/plain": [
       "[4, 5, 6, 7, 'sharma', [1, 2, 3, 4, 'abhishek'], 'a', 'a']"
      ]
     },
     "execution_count": 13,
     "metadata": {},
     "output_type": "execute_result"
    }
   ],
   "source": [
    "b.append(\"a\")\n",
    "b"
   ]
  },
  {
   "cell_type": "code",
   "execution_count": 15,
   "id": "8777b29c-fe4f-423f-a500-03e7638da565",
   "metadata": {},
   "outputs": [
    {
     "data": {
      "text/plain": [
       "[4,\n",
       " 5,\n",
       " 6,\n",
       " 7,\n",
       " 'sharma',\n",
       " [1, 2, 3, 4, 'abhishek'],\n",
       " 'a',\n",
       " 'a',\n",
       " [1, 2, 3, 4, 'abhishek']]"
      ]
     },
     "execution_count": 15,
     "metadata": {},
     "output_type": "execute_result"
    }
   ],
   "source": [
    "b.append(a)\n",
    "b"
   ]
  },
  {
   "cell_type": "code",
   "execution_count": 27,
   "id": "9876b4f6-6970-49d8-8a80-017e2143c8af",
   "metadata": {},
   "outputs": [
    {
     "data": {
      "text/plain": [
       "[4,\n",
       " 5,\n",
       " 6,\n",
       " 7,\n",
       " 'Omprakash',\n",
       " 'Omprakash',\n",
       " 'sharma',\n",
       " [1, 2, 3, 4, 'abhishek'],\n",
       " 'a',\n",
       " 'a',\n",
       " [1, 2, 3, 4, 'abhishek']]"
      ]
     },
     "execution_count": 27,
     "metadata": {},
     "output_type": "execute_result"
    }
   ],
   "source": [
    "b.insert(4,\"Omprakash\")\n",
    "b"
   ]
  },
  {
   "cell_type": "code",
   "execution_count": 29,
   "id": "1c6ca820-c924-4745-8914-94a83de5d8b3",
   "metadata": {},
   "outputs": [
    {
     "data": {
      "text/plain": [
       "'abhishek'"
      ]
     },
     "execution_count": 29,
     "metadata": {},
     "output_type": "execute_result"
    }
   ],
   "source": [
    "a.pop()"
   ]
  },
  {
   "cell_type": "code",
   "execution_count": 31,
   "id": "cafcd1e7-5c36-421c-89d5-492863fe7da2",
   "metadata": {},
   "outputs": [
    {
     "data": {
      "text/plain": [
       "[1, 2, 3, 4]"
      ]
     },
     "execution_count": 31,
     "metadata": {},
     "output_type": "execute_result"
    }
   ],
   "source": [
    "b.pop()\n"
   ]
  },
  {
   "cell_type": "code",
   "execution_count": 33,
   "id": "692d5401-5a22-4ce3-816d-8d33d581ef20",
   "metadata": {},
   "outputs": [
    {
     "data": {
      "text/plain": [
       "[4, 5, 6, 7, 'sharma']"
      ]
     },
     "execution_count": 33,
     "metadata": {},
     "output_type": "execute_result"
    }
   ],
   "source": [
    "b=[4,5,6,7,\"sharma\"]\n",
    "b"
   ]
  },
  {
   "cell_type": "code",
   "execution_count": 35,
   "id": "83bfde16-11c8-4146-b4fe-0967ce64ff79",
   "metadata": {},
   "outputs": [
    {
     "data": {
      "text/plain": [
       "['sharma', 7, 6, 5, 4]"
      ]
     },
     "execution_count": 35,
     "metadata": {},
     "output_type": "execute_result"
    }
   ],
   "source": [
    "b[::-1]"
   ]
  },
  {
   "cell_type": "code",
   "execution_count": 41,
   "id": "204ea6e0-d727-4cb9-9abc-442a9835f082",
   "metadata": {},
   "outputs": [
    {
     "data": {
      "text/plain": [
       "['sharma', 7, 6, 5, 4]"
      ]
     },
     "execution_count": 41,
     "metadata": {},
     "output_type": "execute_result"
    }
   ],
   "source": [
    "b=[4,5,6,7,\"sharma\"]\n",
    "b.reverse()\n",
    "b"
   ]
  },
  {
   "cell_type": "code",
   "execution_count": 47,
   "id": "0563aa05-c7d4-4302-8f1d-029f770ce138",
   "metadata": {},
   "outputs": [
    {
     "data": {
      "text/plain": [
       "[2, 5, 9, 10, 11, 200]"
      ]
     },
     "execution_count": 47,
     "metadata": {},
     "output_type": "execute_result"
    }
   ],
   "source": [
    "b=[5,9,2,10,11,200]   #either use string or numeric number\n",
    "b.sort()\n",
    "b"
   ]
  },
  {
   "cell_type": "code",
   "execution_count": 55,
   "id": "d205fcd7-6f49-40f9-a8c1-d97aae48a202",
   "metadata": {},
   "outputs": [
    {
     "data": {
      "text/plain": [
       "[[1, 6, 8, 2, 45, 4, 87, 5],\n",
       " [6, 7, 3, 2, 11, 22, 44, 65, 67, 89],\n",
       " [9, 90, 45, 32, 54, 67, 98, 100, 209]]"
      ]
     },
     "execution_count": 55,
     "metadata": {},
     "output_type": "execute_result"
    }
   ],
   "source": [
    "a=[1,6,8,2,45,4,87,5]\n",
    "b=[6,7,3,2,11,22,44,65,67,89]\n",
    "c=[9,90,45,32,54,67,98,100,209]\n",
    "d=[a,b,c]\n",
    "d"
   ]
  },
  {
   "cell_type": "code",
   "execution_count": 82,
   "id": "0d7d54d6-99c7-4ccc-a7fe-38a9b5ed6191",
   "metadata": {},
   "outputs": [],
   "source": [
    "m=[]\n",
    "d = d[::-1]\n",
    "for b in d:\n",
    "    m.append(b[::-1])"
   ]
  },
  {
   "cell_type": "code",
   "execution_count": 84,
   "id": "a8475f87-a08b-403c-807d-882a0ec87e21",
   "metadata": {},
   "outputs": [
    {
     "data": {
      "text/plain": [
       "[[9, 90, 45, 32, 54, 67, 98, 100, 209],\n",
       " [6, 7, 3, 2, 11, 22, 44, 65, 67, 89],\n",
       " [1, 6, 8, 2, 45, 4, 87, 5]]"
      ]
     },
     "execution_count": 84,
     "metadata": {},
     "output_type": "execute_result"
    }
   ],
   "source": [
    "d"
   ]
  },
  {
   "cell_type": "code",
   "execution_count": 86,
   "id": "5f53ea03-9e13-4779-9b9c-37fc4234af3c",
   "metadata": {},
   "outputs": [
    {
     "data": {
      "text/plain": [
       "[[209, 100, 98, 67, 54, 32, 45, 90, 9],\n",
       " [89, 67, 65, 44, 22, 11, 2, 3, 7, 6],\n",
       " [5, 87, 4, 45, 2, 8, 6, 1]]"
      ]
     },
     "execution_count": 86,
     "metadata": {},
     "output_type": "execute_result"
    }
   ],
   "source": [
    "m"
   ]
  },
  {
   "cell_type": "code",
   "execution_count": 97,
   "id": "c5d7b8c6-78f8-4be2-9c5a-58471d38948e",
   "metadata": {},
   "outputs": [],
   "source": [
    "n =[]\n",
    "for i in m:\n",
    "    n.append(i[2]*2)"
   ]
  },
  {
   "cell_type": "code",
   "execution_count": 99,
   "id": "33f20a28-ec0c-44f1-9b85-6da01eae2ae3",
   "metadata": {},
   "outputs": [
    {
     "data": {
      "text/plain": [
       "[196, 130, 8]"
      ]
     },
     "execution_count": 99,
     "metadata": {},
     "output_type": "execute_result"
    }
   ],
   "source": [
    "n"
   ]
  },
  {
   "cell_type": "code",
   "execution_count": 103,
   "id": "e26eb92c-286b-46a2-8099-3ac65ef9495a",
   "metadata": {},
   "outputs": [
    {
     "data": {
      "text/plain": [
       "[{196}, {130}, {8}]"
      ]
     },
     "execution_count": 103,
     "metadata": {},
     "output_type": "execute_result"
    }
   ],
   "source": [
    "#List Comphrihansion \n",
    "[{i[2]*2} for i in m]"
   ]
  },
  {
   "cell_type": "code",
   "execution_count": 105,
   "id": "e2028809-f615-4cae-916e-e5dc50e4602e",
   "metadata": {},
   "outputs": [
    {
     "data": {
      "text/plain": [
       "[1, 2, 3, 4, 5, 6, [0, 98, 7, 6]]"
      ]
     },
     "execution_count": 105,
     "metadata": {},
     "output_type": "execute_result"
    }
   ],
   "source": [
    "s=[1,2,3,4,5,6]\n",
    "s.append([0,98,7,6])\n",
    "s"
   ]
  },
  {
   "cell_type": "code",
   "execution_count": 111,
   "id": "99d09c00-ee38-469c-9bac-a4f19b3ba331",
   "metadata": {},
   "outputs": [
    {
     "data": {
      "text/plain": [
       "2"
      ]
     },
     "execution_count": 111,
     "metadata": {},
     "output_type": "execute_result"
    }
   ],
   "source": [
    "m=[1,2,3,4,5,6]\n",
    "m.extend([3,5,6,3,\"abs\"])\n",
    "m.index(3 )\n"
   ]
  },
  {
   "cell_type": "code",
   "execution_count": null,
   "id": "e8193d48-af4b-4b62-90d5-3d4c54531962",
   "metadata": {},
   "outputs": [],
   "source": []
  }
 ],
 "metadata": {
  "kernelspec": {
   "display_name": "Python 3 (ipykernel)",
   "language": "python",
   "name": "python3"
  },
  "language_info": {
   "codemirror_mode": {
    "name": "ipython",
    "version": 3
   },
   "file_extension": ".py",
   "mimetype": "text/x-python",
   "name": "python",
   "nbconvert_exporter": "python",
   "pygments_lexer": "ipython3",
   "version": "3.12.4"
  }
 },
 "nbformat": 4,
 "nbformat_minor": 5
}
